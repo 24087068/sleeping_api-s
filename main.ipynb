{
 "cells": [
  {
   "metadata": {
    "ExecuteTime": {
     "end_time": "2025-09-25T12:50:26.366646Z",
     "start_time": "2025-09-25T12:50:22.958123Z"
    }
   },
   "cell_type": "code",
   "source": [
    "!pip install biopython\n",
    "from Bio import Entrez\n",
    "import pandas as pd\n",
    "import ssl\n",
    "from Bio import Entrez\n",
    "\n",
    "# Ignore SSL certificate verification\n",
    "ssl._create_default_https_context = ssl._create_unverified_context\n",
    "\n",
    "Entrez.email = \"mkakol.index@gmail.com\"\n",
    "\n",
    "handle = Entrez.esearch(db=\"pubmed\", term=\"sleep stages apnea\", retmax=50)\n",
    "record = Entrez.read(handle)\n",
    "pmids = record['IdList']\n",
    "print(pmids)\n"
   ],
   "id": "69a43524b9d7e4a3",
   "outputs": [
    {
     "name": "stdout",
     "output_type": "stream",
     "text": [
      "Requirement already satisfied: biopython in c:\\users\\mkako\\anaconda3\\lib\\site-packages (1.85)\n",
      "Requirement already satisfied: numpy in c:\\users\\mkako\\anaconda3\\lib\\site-packages (from biopython) (2.1.3)\n",
      "['40989577', '40982332', '40971997', '40971987', '40961560', '40955288', '40950906', '40925732', '40914025', '40906334', '40898894', '40888914', '40887298', '40885537', '40881152', '40826110', '40765266', '40759829', '40748358', '40746693', '40729779', '40649003', '40635995', '40633516', '40609200', '40606446', '40604322', '40599001', '40578293', '40554678', '40544785', '40544469', '40465398', '40461718', '40442998', '40426919', '40421278', '40412143', '40396963', '40393640', '40379769', '40377976', '40367826', '40311441', '40296387', '40285532', '40279707', '40277067', '40241663', '40239018']\n"
     ]
    }
   ],
   "execution_count": 1
  },
  {
   "metadata": {
    "ExecuteTime": {
     "end_time": "2025-09-25T12:50:27.406813Z",
     "start_time": "2025-09-25T12:50:26.378316Z"
    }
   },
   "cell_type": "code",
   "source": [
    "handle = Entrez.efetch(db=\"pubmed\", id=pmids, rettype=\"abstract\", retmode=\"text\")\n",
    "abstracts_text = handle.read()\n",
    "print(abstracts_text[:500])  # preview first 500 characters"
   ],
   "id": "e4b3b7236d582c4e",
   "outputs": [
    {
     "name": "stdout",
     "output_type": "stream",
     "text": [
      "1. J Taibah Univ Med Sci. 2025 Sep 5;20(5):596-611. doi: \n",
      "10.1016/j.jtumed.2025.07.013. eCollection 2025 Oct.\n",
      "\n",
      "How golden age Arab-Islamic scholars revolutionized sleep physiology and dream \n",
      "analysis.\n",
      "\n",
      "BaHammam AS(1)(2)(3).\n",
      "\n",
      "Author information:\n",
      "(1)Department of Medicine, College of Medicine, University Sleep Disorders \n",
      "Center, King Saud University, Riyadh 11324, KSA.\n",
      "(2)The Strategic Technologies Program of the National Plan for Sciences and \n",
      "Technology and Innovation in the KSA, Riyadh, KSA.\n",
      "(3\n"
     ]
    }
   ],
   "execution_count": 2
  },
  {
   "metadata": {
    "ExecuteTime": {
     "end_time": "2025-09-25T12:50:27.561357Z",
     "start_time": "2025-09-25T12:50:27.524838Z"
    }
   },
   "cell_type": "code",
   "source": [
    "# First, split by double newlines which usually separate abstracts\n",
    "abstracts_list = abstracts_text.split(\"\\n\\n\")\n",
    "\n",
    "# Optional: remove empty strings and extra whitespace\n",
    "abstracts_list = [ab.strip() for ab in abstracts_list if ab.strip() != \"\"]\n",
    "\n",
    "# Now, simple tagging by sleep stage keywords\n",
    "tagged_abstracts = []\n",
    "for abstract in abstracts_list:\n",
    "    # Default tag\n",
    "    stage = \"Unknown\"\n",
    "\n",
    "    # Check for keywords (case-insensitive)\n",
    "    if \"REM\" in abstract.upper():\n",
    "        stage = \"REM\"\n",
    "    elif \"N1\" in abstract.upper():\n",
    "        stage = \"N1\"\n",
    "    elif \"N2\" in abstract.upper():\n",
    "        stage = \"N2\"\n",
    "    elif \"N3\" in abstract.upper():\n",
    "        stage = \"N3\"\n",
    "\n",
    "    tagged_abstracts.append({\n",
    "        \"abstract\": abstract,\n",
    "        \"sleep_stage\": stage\n",
    "    })\n",
    "\n",
    "# Convert to DataFrame for further use\n",
    "import pandas as pd\n",
    "df = pd.DataFrame(tagged_abstracts)\n",
    "print(df.head())\n"
   ],
   "id": "af1113808e47e52",
   "outputs": [
    {
     "name": "stdout",
     "output_type": "stream",
     "text": [
      "                                            abstract sleep_stage\n",
      "0  1. J Taibah Univ Med Sci. 2025 Sep 5;20(5):596...     Unknown\n",
      "1  How golden age Arab-Islamic scholars revolutio...     Unknown\n",
      "2                              BaHammam AS(1)(2)(3).     Unknown\n",
      "3  Author information:\\n(1)Department of Medicine...     Unknown\n",
      "4  Medieval Arab-Islamic scholars (7th-13th centu...         REM\n"
     ]
    }
   ],
   "execution_count": 3
  }
 ],
 "metadata": {
  "kernelspec": {
   "display_name": "Python 3",
   "language": "python",
   "name": "python3"
  },
  "language_info": {
   "codemirror_mode": {
    "name": "ipython",
    "version": 2
   },
   "file_extension": ".py",
   "mimetype": "text/x-python",
   "name": "python",
   "nbconvert_exporter": "python",
   "pygments_lexer": "ipython2",
   "version": "2.7.6"
  }
 },
 "nbformat": 4,
 "nbformat_minor": 5
}
