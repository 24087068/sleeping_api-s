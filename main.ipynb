{
 "cells": [
  {
   "metadata": {},
   "cell_type": "markdown",
   "source": [
    "Todo:\n",
    "- audio dataset automatic donload with code from kaggle\n",
    "- make web scraping for text more flexible with names so it won't throw out an error whenever name doesnt match exactly\n",
    "- do the eda with this rough data to see if it has everything we need for the pipline.\n",
    "- create new file with buidling pipline so we won't have to rerun eda everytime."
   ],
   "id": "c192f03e29805907"
  },
  {
   "metadata": {},
   "cell_type": "markdown",
   "source": "# 1. Imports",
   "id": "bc1cdde21b0349bc"
  },
  {
   "metadata": {},
   "cell_type": "markdown",
   "source": "## 1.1 Packages",
   "id": "75f8d5043afea478"
  },
  {
   "metadata": {
    "ExecuteTime": {
     "end_time": "2025-10-12T18:54:57.162416Z",
     "start_time": "2025-10-12T18:54:54.886751Z"
    }
   },
   "cell_type": "code",
   "source": [
    "import pandas as pd\n",
    "import numpy as np\n",
    "import requests\n",
    "from bs4 import BeautifulSoup\n",
    "import matplotlib.pyplot as plt\n",
    "import os\n",
    "import time\n",
    "import requests\n",
    "from urllib.parse import unquote"
   ],
   "id": "e053684f551d23af",
   "outputs": [],
   "execution_count": 1
  },
  {
   "metadata": {},
   "cell_type": "markdown",
   "source": "## 1.2 Audio Dataset From kaggle.com",
   "id": "a96d86437d16e204"
  },
  {
   "metadata": {
    "ExecuteTime": {
     "end_time": "2025-10-12T18:55:10.377780Z",
     "start_time": "2025-10-12T18:55:10.366785Z"
    }
   },
   "cell_type": "code",
   "source": [
    "audio_path = \"data/audio/original_dataset/\"\n",
    "os.listdir(audio_path)"
   ],
   "id": "c45ba0924f86e7be",
   "outputs": [
    {
     "data": {
      "text/plain": [
       "['38sws-dot38-caliber',\n",
       " 'ak-12',\n",
       " 'ak-47',\n",
       " 'arctic-warfare-magnum',\n",
       " 'beretta-92',\n",
       " 'colt-1911',\n",
       " 'daewoo-k2',\n",
       " 'desert-eagle',\n",
       " 'double-barrel-shotgun',\n",
       " 'dp-27-lmg',\n",
       " 'fn-p90',\n",
       " 'fn-scar',\n",
       " 'glock',\n",
       " 'glock-18c',\n",
       " 'glock-19-9mm-luger-pistol',\n",
       " 'high-standard-22lr',\n",
       " 'hk-g36c',\n",
       " 'hk-ump45',\n",
       " 'hk-usp-compact-40-sw-pistol',\n",
       " 'kar98k',\n",
       " 'kimber-45acp',\n",
       " 'kriss-vector',\n",
       " 'lorcin-380acp',\n",
       " 'm16',\n",
       " 'm24-sws',\n",
       " 'm249-lmg',\n",
       " 'm4',\n",
       " 'mg42-lmg',\n",
       " 'mini-14',\n",
       " 'mk14-ebr',\n",
       " 'mp-40-40-sw-pistol',\n",
       " 'mp5-smg',\n",
       " 'nagant-m1895',\n",
       " 'ots-14-groza',\n",
       " 'pp-19-bizon',\n",
       " 'pump-action-shotgun',\n",
       " 'qbu-88',\n",
       " 'qbz-95',\n",
       " 'remington-22lr',\n",
       " 'remington-700',\n",
       " 'remington-870',\n",
       " 'rhino-60ds',\n",
       " 'ruger-22lr',\n",
       " 'ruger-357',\n",
       " 'ruger-ar-556',\n",
       " 'saiga-12k',\n",
       " 'sig-p225',\n",
       " 'sks-rifle',\n",
       " 'slr-rifle',\n",
       " 'steyr-aug',\n",
       " 'sw-10-8-38spl-revolver',\n",
       " 'sw-34-1-22lr-revolver',\n",
       " 'thompson-m1928',\n",
       " 'uzi-smg',\n",
       " 'vector-lmg',\n",
       " 'vss-vintorez',\n",
       " 'winchester-m14',\n",
       " 'winchester-rifle']"
      ]
     },
     "execution_count": 3,
     "metadata": {},
     "output_type": "execute_result"
    }
   ],
   "execution_count": 3
  },
  {
   "metadata": {},
   "cell_type": "markdown",
   "source": "## 1.3 Image API From wikimedia.org",
   "id": "610d1c40436da966"
  },
  {
   "metadata": {
    "ExecuteTime": {
     "end_time": "2025-10-12T19:01:43.302097Z",
     "start_time": "2025-10-12T19:01:38.261772Z"
    }
   },
   "cell_type": "code",
   "source": [
    "from image_api import ImageAPI\n",
    "API_URL = \"https://commons.wikimedia.org/w/api.php\"\n",
    "HEADERS = {\"User-Agent\": \"Pipline/1.0 (mkakol.index@gmail.com)\"}\n",
    "audio_files = os.listdir(audio_path)\n",
    "models = [os.path.splitext(f)[0] for f in audio_files]\n",
    "df = ImageAPI(API_URL, HEADERS).fetch_images_for_models(models)"
   ],
   "id": "87251bca5db44ed7",
   "outputs": [
    {
     "name": "stdout",
     "output_type": "stream",
     "text": [
      "Searching for 38sws-dot38-caliber...\n",
      "No image found for 38sws-dot38-caliber.\n",
      "Searching for ak-12...\n",
      "Downloaded: https://upload.wikimedia.org/wikipedia/commons/c/c2/5%2C45mm_AK-12_6P70_assault_rifle_at_Military-technical_forum_ARMY-2016_03_noBG.png\n",
      "Searching for ak-47...\n"
     ]
    },
    {
     "ename": "KeyboardInterrupt",
     "evalue": "",
     "output_type": "error",
     "traceback": [
      "\u001B[1;31m---------------------------------------------------------------------------\u001B[0m",
      "\u001B[1;31mKeyboardInterrupt\u001B[0m                         Traceback (most recent call last)",
      "Cell \u001B[1;32mIn[9], line 6\u001B[0m\n\u001B[0;32m      4\u001B[0m audio_files \u001B[38;5;241m=\u001B[39m os\u001B[38;5;241m.\u001B[39mlistdir(audio_path)\n\u001B[0;32m      5\u001B[0m models \u001B[38;5;241m=\u001B[39m [os\u001B[38;5;241m.\u001B[39mpath\u001B[38;5;241m.\u001B[39msplitext(f)[\u001B[38;5;241m0\u001B[39m] \u001B[38;5;28;01mfor\u001B[39;00m f \u001B[38;5;129;01min\u001B[39;00m audio_files]\n\u001B[1;32m----> 6\u001B[0m df \u001B[38;5;241m=\u001B[39m ImageAPI(API_URL, HEADERS)\u001B[38;5;241m.\u001B[39mfetch_images_for_models(models)\n",
      "File \u001B[1;32m~\\Portables\\Projects\\sleeping_api-s\\image_api.py:59\u001B[0m, in \u001B[0;36mImageAPI.fetch_images_for_models\u001B[1;34m(self, models)\u001B[0m\n\u001B[0;32m     57\u001B[0m \u001B[38;5;28;01mfor\u001B[39;00m model \u001B[38;5;129;01min\u001B[39;00m models:\n\u001B[0;32m     58\u001B[0m     \u001B[38;5;28mprint\u001B[39m(\u001B[38;5;124mf\u001B[39m\u001B[38;5;124m\"\u001B[39m\u001B[38;5;124mSearching for \u001B[39m\u001B[38;5;132;01m{\u001B[39;00mmodel\u001B[38;5;132;01m}\u001B[39;00m\u001B[38;5;124m...\u001B[39m\u001B[38;5;124m\"\u001B[39m)\n\u001B[1;32m---> 59\u001B[0m     titles \u001B[38;5;241m=\u001B[39m \u001B[38;5;28mself\u001B[39m\u001B[38;5;241m.\u001B[39msearch_images(model)\n\u001B[0;32m     60\u001B[0m     urls \u001B[38;5;241m=\u001B[39m \u001B[38;5;28mself\u001B[39m\u001B[38;5;241m.\u001B[39mget_image_info(titles)\n\u001B[0;32m     61\u001B[0m     \u001B[38;5;28;01mif\u001B[39;00m urls:\n",
      "File \u001B[1;32m~\\Portables\\Projects\\sleeping_api-s\\image_api.py:23\u001B[0m, in \u001B[0;36mImageAPI.search_images\u001B[1;34m(self, query, limit)\u001B[0m\n\u001B[0;32m     14\u001B[0m \u001B[38;5;250m\u001B[39m\u001B[38;5;124;03m\"\"\"Search Wikimedia for image files\"\"\"\u001B[39;00m\n\u001B[0;32m     15\u001B[0m params \u001B[38;5;241m=\u001B[39m {\n\u001B[0;32m     16\u001B[0m     \u001B[38;5;124m\"\u001B[39m\u001B[38;5;124maction\u001B[39m\u001B[38;5;124m\"\u001B[39m: \u001B[38;5;124m\"\u001B[39m\u001B[38;5;124mquery\u001B[39m\u001B[38;5;124m\"\u001B[39m,\n\u001B[0;32m     17\u001B[0m     \u001B[38;5;124m\"\u001B[39m\u001B[38;5;124mformat\u001B[39m\u001B[38;5;124m\"\u001B[39m: \u001B[38;5;124m\"\u001B[39m\u001B[38;5;124mjson\u001B[39m\u001B[38;5;124m\"\u001B[39m,\n\u001B[1;32m   (...)\u001B[0m\n\u001B[0;32m     21\u001B[0m     \u001B[38;5;124m\"\u001B[39m\u001B[38;5;124msrlimit\u001B[39m\u001B[38;5;124m\"\u001B[39m: limit\n\u001B[0;32m     22\u001B[0m }\n\u001B[1;32m---> 23\u001B[0m r \u001B[38;5;241m=\u001B[39m requests\u001B[38;5;241m.\u001B[39mget(\u001B[38;5;28mself\u001B[39m\u001B[38;5;241m.\u001B[39mapi_url, params\u001B[38;5;241m=\u001B[39mparams, headers\u001B[38;5;241m=\u001B[39m\u001B[38;5;28mself\u001B[39m\u001B[38;5;241m.\u001B[39mheaders)\n\u001B[0;32m     24\u001B[0m data \u001B[38;5;241m=\u001B[39m r\u001B[38;5;241m.\u001B[39mjson()\n\u001B[0;32m     25\u001B[0m results \u001B[38;5;241m=\u001B[39m data\u001B[38;5;241m.\u001B[39mget(\u001B[38;5;124m\"\u001B[39m\u001B[38;5;124mquery\u001B[39m\u001B[38;5;124m\"\u001B[39m, {})\u001B[38;5;241m.\u001B[39mget(\u001B[38;5;124m\"\u001B[39m\u001B[38;5;124msearch\u001B[39m\u001B[38;5;124m\"\u001B[39m, [])\n",
      "File \u001B[1;32m~\\anaconda3\\Lib\\site-packages\\requests\\api.py:73\u001B[0m, in \u001B[0;36mget\u001B[1;34m(url, params, **kwargs)\u001B[0m\n\u001B[0;32m     62\u001B[0m \u001B[38;5;28;01mdef\u001B[39;00m\u001B[38;5;250m \u001B[39m\u001B[38;5;21mget\u001B[39m(url, params\u001B[38;5;241m=\u001B[39m\u001B[38;5;28;01mNone\u001B[39;00m, \u001B[38;5;241m*\u001B[39m\u001B[38;5;241m*\u001B[39mkwargs):\n\u001B[0;32m     63\u001B[0m \u001B[38;5;250m    \u001B[39m\u001B[38;5;124mr\u001B[39m\u001B[38;5;124;03m\"\"\"Sends a GET request.\u001B[39;00m\n\u001B[0;32m     64\u001B[0m \n\u001B[0;32m     65\u001B[0m \u001B[38;5;124;03m    :param url: URL for the new :class:`Request` object.\u001B[39;00m\n\u001B[1;32m   (...)\u001B[0m\n\u001B[0;32m     70\u001B[0m \u001B[38;5;124;03m    :rtype: requests.Response\u001B[39;00m\n\u001B[0;32m     71\u001B[0m \u001B[38;5;124;03m    \"\"\"\u001B[39;00m\n\u001B[1;32m---> 73\u001B[0m     \u001B[38;5;28;01mreturn\u001B[39;00m request(\u001B[38;5;124m\"\u001B[39m\u001B[38;5;124mget\u001B[39m\u001B[38;5;124m\"\u001B[39m, url, params\u001B[38;5;241m=\u001B[39mparams, \u001B[38;5;241m*\u001B[39m\u001B[38;5;241m*\u001B[39mkwargs)\n",
      "File \u001B[1;32m~\\anaconda3\\Lib\\site-packages\\requests\\api.py:59\u001B[0m, in \u001B[0;36mrequest\u001B[1;34m(method, url, **kwargs)\u001B[0m\n\u001B[0;32m     55\u001B[0m \u001B[38;5;66;03m# By using the 'with' statement we are sure the session is closed, thus we\u001B[39;00m\n\u001B[0;32m     56\u001B[0m \u001B[38;5;66;03m# avoid leaving sockets open which can trigger a ResourceWarning in some\u001B[39;00m\n\u001B[0;32m     57\u001B[0m \u001B[38;5;66;03m# cases, and look like a memory leak in others.\u001B[39;00m\n\u001B[0;32m     58\u001B[0m \u001B[38;5;28;01mwith\u001B[39;00m sessions\u001B[38;5;241m.\u001B[39mSession() \u001B[38;5;28;01mas\u001B[39;00m session:\n\u001B[1;32m---> 59\u001B[0m     \u001B[38;5;28;01mreturn\u001B[39;00m session\u001B[38;5;241m.\u001B[39mrequest(method\u001B[38;5;241m=\u001B[39mmethod, url\u001B[38;5;241m=\u001B[39murl, \u001B[38;5;241m*\u001B[39m\u001B[38;5;241m*\u001B[39mkwargs)\n",
      "File \u001B[1;32m~\\anaconda3\\Lib\\site-packages\\requests\\sessions.py:589\u001B[0m, in \u001B[0;36mSession.request\u001B[1;34m(self, method, url, params, data, headers, cookies, files, auth, timeout, allow_redirects, proxies, hooks, stream, verify, cert, json)\u001B[0m\n\u001B[0;32m    584\u001B[0m send_kwargs \u001B[38;5;241m=\u001B[39m {\n\u001B[0;32m    585\u001B[0m     \u001B[38;5;124m\"\u001B[39m\u001B[38;5;124mtimeout\u001B[39m\u001B[38;5;124m\"\u001B[39m: timeout,\n\u001B[0;32m    586\u001B[0m     \u001B[38;5;124m\"\u001B[39m\u001B[38;5;124mallow_redirects\u001B[39m\u001B[38;5;124m\"\u001B[39m: allow_redirects,\n\u001B[0;32m    587\u001B[0m }\n\u001B[0;32m    588\u001B[0m send_kwargs\u001B[38;5;241m.\u001B[39mupdate(settings)\n\u001B[1;32m--> 589\u001B[0m resp \u001B[38;5;241m=\u001B[39m \u001B[38;5;28mself\u001B[39m\u001B[38;5;241m.\u001B[39msend(prep, \u001B[38;5;241m*\u001B[39m\u001B[38;5;241m*\u001B[39msend_kwargs)\n\u001B[0;32m    591\u001B[0m \u001B[38;5;28;01mreturn\u001B[39;00m resp\n",
      "File \u001B[1;32m~\\anaconda3\\Lib\\site-packages\\requests\\sessions.py:703\u001B[0m, in \u001B[0;36mSession.send\u001B[1;34m(self, request, **kwargs)\u001B[0m\n\u001B[0;32m    700\u001B[0m start \u001B[38;5;241m=\u001B[39m preferred_clock()\n\u001B[0;32m    702\u001B[0m \u001B[38;5;66;03m# Send the request\u001B[39;00m\n\u001B[1;32m--> 703\u001B[0m r \u001B[38;5;241m=\u001B[39m adapter\u001B[38;5;241m.\u001B[39msend(request, \u001B[38;5;241m*\u001B[39m\u001B[38;5;241m*\u001B[39mkwargs)\n\u001B[0;32m    705\u001B[0m \u001B[38;5;66;03m# Total elapsed time of the request (approximately)\u001B[39;00m\n\u001B[0;32m    706\u001B[0m elapsed \u001B[38;5;241m=\u001B[39m preferred_clock() \u001B[38;5;241m-\u001B[39m start\n",
      "File \u001B[1;32m~\\anaconda3\\Lib\\site-packages\\requests\\adapters.py:667\u001B[0m, in \u001B[0;36mHTTPAdapter.send\u001B[1;34m(self, request, stream, timeout, verify, cert, proxies)\u001B[0m\n\u001B[0;32m    664\u001B[0m     timeout \u001B[38;5;241m=\u001B[39m TimeoutSauce(connect\u001B[38;5;241m=\u001B[39mtimeout, read\u001B[38;5;241m=\u001B[39mtimeout)\n\u001B[0;32m    666\u001B[0m \u001B[38;5;28;01mtry\u001B[39;00m:\n\u001B[1;32m--> 667\u001B[0m     resp \u001B[38;5;241m=\u001B[39m conn\u001B[38;5;241m.\u001B[39murlopen(\n\u001B[0;32m    668\u001B[0m         method\u001B[38;5;241m=\u001B[39mrequest\u001B[38;5;241m.\u001B[39mmethod,\n\u001B[0;32m    669\u001B[0m         url\u001B[38;5;241m=\u001B[39murl,\n\u001B[0;32m    670\u001B[0m         body\u001B[38;5;241m=\u001B[39mrequest\u001B[38;5;241m.\u001B[39mbody,\n\u001B[0;32m    671\u001B[0m         headers\u001B[38;5;241m=\u001B[39mrequest\u001B[38;5;241m.\u001B[39mheaders,\n\u001B[0;32m    672\u001B[0m         redirect\u001B[38;5;241m=\u001B[39m\u001B[38;5;28;01mFalse\u001B[39;00m,\n\u001B[0;32m    673\u001B[0m         assert_same_host\u001B[38;5;241m=\u001B[39m\u001B[38;5;28;01mFalse\u001B[39;00m,\n\u001B[0;32m    674\u001B[0m         preload_content\u001B[38;5;241m=\u001B[39m\u001B[38;5;28;01mFalse\u001B[39;00m,\n\u001B[0;32m    675\u001B[0m         decode_content\u001B[38;5;241m=\u001B[39m\u001B[38;5;28;01mFalse\u001B[39;00m,\n\u001B[0;32m    676\u001B[0m         retries\u001B[38;5;241m=\u001B[39m\u001B[38;5;28mself\u001B[39m\u001B[38;5;241m.\u001B[39mmax_retries,\n\u001B[0;32m    677\u001B[0m         timeout\u001B[38;5;241m=\u001B[39mtimeout,\n\u001B[0;32m    678\u001B[0m         chunked\u001B[38;5;241m=\u001B[39mchunked,\n\u001B[0;32m    679\u001B[0m     )\n\u001B[0;32m    681\u001B[0m \u001B[38;5;28;01mexcept\u001B[39;00m (ProtocolError, \u001B[38;5;167;01mOSError\u001B[39;00m) \u001B[38;5;28;01mas\u001B[39;00m err:\n\u001B[0;32m    682\u001B[0m     \u001B[38;5;28;01mraise\u001B[39;00m \u001B[38;5;167;01mConnectionError\u001B[39;00m(err, request\u001B[38;5;241m=\u001B[39mrequest)\n",
      "File \u001B[1;32m~\\anaconda3\\Lib\\site-packages\\urllib3\\connectionpool.py:787\u001B[0m, in \u001B[0;36mHTTPConnectionPool.urlopen\u001B[1;34m(self, method, url, body, headers, retries, redirect, assert_same_host, timeout, pool_timeout, release_conn, chunked, body_pos, preload_content, decode_content, **response_kw)\u001B[0m\n\u001B[0;32m    784\u001B[0m response_conn \u001B[38;5;241m=\u001B[39m conn \u001B[38;5;28;01mif\u001B[39;00m \u001B[38;5;129;01mnot\u001B[39;00m release_conn \u001B[38;5;28;01melse\u001B[39;00m \u001B[38;5;28;01mNone\u001B[39;00m\n\u001B[0;32m    786\u001B[0m \u001B[38;5;66;03m# Make the request on the HTTPConnection object\u001B[39;00m\n\u001B[1;32m--> 787\u001B[0m response \u001B[38;5;241m=\u001B[39m \u001B[38;5;28mself\u001B[39m\u001B[38;5;241m.\u001B[39m_make_request(\n\u001B[0;32m    788\u001B[0m     conn,\n\u001B[0;32m    789\u001B[0m     method,\n\u001B[0;32m    790\u001B[0m     url,\n\u001B[0;32m    791\u001B[0m     timeout\u001B[38;5;241m=\u001B[39mtimeout_obj,\n\u001B[0;32m    792\u001B[0m     body\u001B[38;5;241m=\u001B[39mbody,\n\u001B[0;32m    793\u001B[0m     headers\u001B[38;5;241m=\u001B[39mheaders,\n\u001B[0;32m    794\u001B[0m     chunked\u001B[38;5;241m=\u001B[39mchunked,\n\u001B[0;32m    795\u001B[0m     retries\u001B[38;5;241m=\u001B[39mretries,\n\u001B[0;32m    796\u001B[0m     response_conn\u001B[38;5;241m=\u001B[39mresponse_conn,\n\u001B[0;32m    797\u001B[0m     preload_content\u001B[38;5;241m=\u001B[39mpreload_content,\n\u001B[0;32m    798\u001B[0m     decode_content\u001B[38;5;241m=\u001B[39mdecode_content,\n\u001B[0;32m    799\u001B[0m     \u001B[38;5;241m*\u001B[39m\u001B[38;5;241m*\u001B[39mresponse_kw,\n\u001B[0;32m    800\u001B[0m )\n\u001B[0;32m    802\u001B[0m \u001B[38;5;66;03m# Everything went great!\u001B[39;00m\n\u001B[0;32m    803\u001B[0m clean_exit \u001B[38;5;241m=\u001B[39m \u001B[38;5;28;01mTrue\u001B[39;00m\n",
      "File \u001B[1;32m~\\anaconda3\\Lib\\site-packages\\urllib3\\connectionpool.py:534\u001B[0m, in \u001B[0;36mHTTPConnectionPool._make_request\u001B[1;34m(self, conn, method, url, body, headers, retries, timeout, chunked, response_conn, preload_content, decode_content, enforce_content_length)\u001B[0m\n\u001B[0;32m    532\u001B[0m \u001B[38;5;66;03m# Receive the response from the server\u001B[39;00m\n\u001B[0;32m    533\u001B[0m \u001B[38;5;28;01mtry\u001B[39;00m:\n\u001B[1;32m--> 534\u001B[0m     response \u001B[38;5;241m=\u001B[39m conn\u001B[38;5;241m.\u001B[39mgetresponse()\n\u001B[0;32m    535\u001B[0m \u001B[38;5;28;01mexcept\u001B[39;00m (BaseSSLError, \u001B[38;5;167;01mOSError\u001B[39;00m) \u001B[38;5;28;01mas\u001B[39;00m e:\n\u001B[0;32m    536\u001B[0m     \u001B[38;5;28mself\u001B[39m\u001B[38;5;241m.\u001B[39m_raise_timeout(err\u001B[38;5;241m=\u001B[39me, url\u001B[38;5;241m=\u001B[39murl, timeout_value\u001B[38;5;241m=\u001B[39mread_timeout)\n",
      "File \u001B[1;32m~\\anaconda3\\Lib\\site-packages\\urllib3\\connection.py:516\u001B[0m, in \u001B[0;36mHTTPConnection.getresponse\u001B[1;34m(self)\u001B[0m\n\u001B[0;32m    513\u001B[0m _shutdown \u001B[38;5;241m=\u001B[39m \u001B[38;5;28mgetattr\u001B[39m(\u001B[38;5;28mself\u001B[39m\u001B[38;5;241m.\u001B[39msock, \u001B[38;5;124m\"\u001B[39m\u001B[38;5;124mshutdown\u001B[39m\u001B[38;5;124m\"\u001B[39m, \u001B[38;5;28;01mNone\u001B[39;00m)\n\u001B[0;32m    515\u001B[0m \u001B[38;5;66;03m# Get the response from http.client.HTTPConnection\u001B[39;00m\n\u001B[1;32m--> 516\u001B[0m httplib_response \u001B[38;5;241m=\u001B[39m \u001B[38;5;28msuper\u001B[39m()\u001B[38;5;241m.\u001B[39mgetresponse()\n\u001B[0;32m    518\u001B[0m \u001B[38;5;28;01mtry\u001B[39;00m:\n\u001B[0;32m    519\u001B[0m     assert_header_parsing(httplib_response\u001B[38;5;241m.\u001B[39mmsg)\n",
      "File \u001B[1;32m~\\anaconda3\\Lib\\http\\client.py:1430\u001B[0m, in \u001B[0;36mHTTPConnection.getresponse\u001B[1;34m(self)\u001B[0m\n\u001B[0;32m   1428\u001B[0m \u001B[38;5;28;01mtry\u001B[39;00m:\n\u001B[0;32m   1429\u001B[0m     \u001B[38;5;28;01mtry\u001B[39;00m:\n\u001B[1;32m-> 1430\u001B[0m         response\u001B[38;5;241m.\u001B[39mbegin()\n\u001B[0;32m   1431\u001B[0m     \u001B[38;5;28;01mexcept\u001B[39;00m \u001B[38;5;167;01mConnectionError\u001B[39;00m:\n\u001B[0;32m   1432\u001B[0m         \u001B[38;5;28mself\u001B[39m\u001B[38;5;241m.\u001B[39mclose()\n",
      "File \u001B[1;32m~\\anaconda3\\Lib\\http\\client.py:331\u001B[0m, in \u001B[0;36mHTTPResponse.begin\u001B[1;34m(self)\u001B[0m\n\u001B[0;32m    329\u001B[0m \u001B[38;5;66;03m# read until we get a non-100 response\u001B[39;00m\n\u001B[0;32m    330\u001B[0m \u001B[38;5;28;01mwhile\u001B[39;00m \u001B[38;5;28;01mTrue\u001B[39;00m:\n\u001B[1;32m--> 331\u001B[0m     version, status, reason \u001B[38;5;241m=\u001B[39m \u001B[38;5;28mself\u001B[39m\u001B[38;5;241m.\u001B[39m_read_status()\n\u001B[0;32m    332\u001B[0m     \u001B[38;5;28;01mif\u001B[39;00m status \u001B[38;5;241m!=\u001B[39m CONTINUE:\n\u001B[0;32m    333\u001B[0m         \u001B[38;5;28;01mbreak\u001B[39;00m\n",
      "File \u001B[1;32m~\\anaconda3\\Lib\\http\\client.py:292\u001B[0m, in \u001B[0;36mHTTPResponse._read_status\u001B[1;34m(self)\u001B[0m\n\u001B[0;32m    291\u001B[0m \u001B[38;5;28;01mdef\u001B[39;00m\u001B[38;5;250m \u001B[39m\u001B[38;5;21m_read_status\u001B[39m(\u001B[38;5;28mself\u001B[39m):\n\u001B[1;32m--> 292\u001B[0m     line \u001B[38;5;241m=\u001B[39m \u001B[38;5;28mstr\u001B[39m(\u001B[38;5;28mself\u001B[39m\u001B[38;5;241m.\u001B[39mfp\u001B[38;5;241m.\u001B[39mreadline(_MAXLINE \u001B[38;5;241m+\u001B[39m \u001B[38;5;241m1\u001B[39m), \u001B[38;5;124m\"\u001B[39m\u001B[38;5;124miso-8859-1\u001B[39m\u001B[38;5;124m\"\u001B[39m)\n\u001B[0;32m    293\u001B[0m     \u001B[38;5;28;01mif\u001B[39;00m \u001B[38;5;28mlen\u001B[39m(line) \u001B[38;5;241m>\u001B[39m _MAXLINE:\n\u001B[0;32m    294\u001B[0m         \u001B[38;5;28;01mraise\u001B[39;00m LineTooLong(\u001B[38;5;124m\"\u001B[39m\u001B[38;5;124mstatus line\u001B[39m\u001B[38;5;124m\"\u001B[39m)\n",
      "File \u001B[1;32m~\\anaconda3\\Lib\\socket.py:719\u001B[0m, in \u001B[0;36mSocketIO.readinto\u001B[1;34m(self, b)\u001B[0m\n\u001B[0;32m    717\u001B[0m     \u001B[38;5;28;01mraise\u001B[39;00m \u001B[38;5;167;01mOSError\u001B[39;00m(\u001B[38;5;124m\"\u001B[39m\u001B[38;5;124mcannot read from timed out object\u001B[39m\u001B[38;5;124m\"\u001B[39m)\n\u001B[0;32m    718\u001B[0m \u001B[38;5;28;01mtry\u001B[39;00m:\n\u001B[1;32m--> 719\u001B[0m     \u001B[38;5;28;01mreturn\u001B[39;00m \u001B[38;5;28mself\u001B[39m\u001B[38;5;241m.\u001B[39m_sock\u001B[38;5;241m.\u001B[39mrecv_into(b)\n\u001B[0;32m    720\u001B[0m \u001B[38;5;28;01mexcept\u001B[39;00m timeout:\n\u001B[0;32m    721\u001B[0m     \u001B[38;5;28mself\u001B[39m\u001B[38;5;241m.\u001B[39m_timeout_occurred \u001B[38;5;241m=\u001B[39m \u001B[38;5;28;01mTrue\u001B[39;00m\n",
      "File \u001B[1;32m~\\anaconda3\\Lib\\ssl.py:1304\u001B[0m, in \u001B[0;36mSSLSocket.recv_into\u001B[1;34m(self, buffer, nbytes, flags)\u001B[0m\n\u001B[0;32m   1300\u001B[0m     \u001B[38;5;28;01mif\u001B[39;00m flags \u001B[38;5;241m!=\u001B[39m \u001B[38;5;241m0\u001B[39m:\n\u001B[0;32m   1301\u001B[0m         \u001B[38;5;28;01mraise\u001B[39;00m \u001B[38;5;167;01mValueError\u001B[39;00m(\n\u001B[0;32m   1302\u001B[0m           \u001B[38;5;124m\"\u001B[39m\u001B[38;5;124mnon-zero flags not allowed in calls to recv_into() on \u001B[39m\u001B[38;5;132;01m%s\u001B[39;00m\u001B[38;5;124m\"\u001B[39m \u001B[38;5;241m%\u001B[39m\n\u001B[0;32m   1303\u001B[0m           \u001B[38;5;28mself\u001B[39m\u001B[38;5;241m.\u001B[39m\u001B[38;5;18m__class__\u001B[39m)\n\u001B[1;32m-> 1304\u001B[0m     \u001B[38;5;28;01mreturn\u001B[39;00m \u001B[38;5;28mself\u001B[39m\u001B[38;5;241m.\u001B[39mread(nbytes, buffer)\n\u001B[0;32m   1305\u001B[0m \u001B[38;5;28;01melse\u001B[39;00m:\n\u001B[0;32m   1306\u001B[0m     \u001B[38;5;28;01mreturn\u001B[39;00m \u001B[38;5;28msuper\u001B[39m()\u001B[38;5;241m.\u001B[39mrecv_into(buffer, nbytes, flags)\n",
      "File \u001B[1;32m~\\anaconda3\\Lib\\ssl.py:1138\u001B[0m, in \u001B[0;36mSSLSocket.read\u001B[1;34m(self, len, buffer)\u001B[0m\n\u001B[0;32m   1136\u001B[0m \u001B[38;5;28;01mtry\u001B[39;00m:\n\u001B[0;32m   1137\u001B[0m     \u001B[38;5;28;01mif\u001B[39;00m buffer \u001B[38;5;129;01mis\u001B[39;00m \u001B[38;5;129;01mnot\u001B[39;00m \u001B[38;5;28;01mNone\u001B[39;00m:\n\u001B[1;32m-> 1138\u001B[0m         \u001B[38;5;28;01mreturn\u001B[39;00m \u001B[38;5;28mself\u001B[39m\u001B[38;5;241m.\u001B[39m_sslobj\u001B[38;5;241m.\u001B[39mread(\u001B[38;5;28mlen\u001B[39m, buffer)\n\u001B[0;32m   1139\u001B[0m     \u001B[38;5;28;01melse\u001B[39;00m:\n\u001B[0;32m   1140\u001B[0m         \u001B[38;5;28;01mreturn\u001B[39;00m \u001B[38;5;28mself\u001B[39m\u001B[38;5;241m.\u001B[39m_sslobj\u001B[38;5;241m.\u001B[39mread(\u001B[38;5;28mlen\u001B[39m)\n",
      "\u001B[1;31mKeyboardInterrupt\u001B[0m: "
     ]
    }
   ],
   "execution_count": 9
  },
  {
   "metadata": {},
   "cell_type": "markdown",
   "source": "## 1.4 Web Scraping Text From gunsfandom.com",
   "id": "44305f0439d5fa4b"
  },
  {
   "metadata": {
    "ExecuteTime": {
     "end_time": "2025-10-12T18:58:35.189784Z",
     "start_time": "2025-10-12T18:58:34.811369Z"
    }
   },
   "cell_type": "code",
   "source": [
    "from text_webscraping import get_fandom_text\n",
    "url = \"https://guns.fandom.com/wiki/AK-47\"\n",
    "paras = get_fandom_text(url)\n",
    "for i, p in enumerate(paras[:10]):\n",
    "    print(p)"
   ],
   "id": "61c87c2d3fe0d3c8",
   "outputs": [
    {
     "name": "stdout",
     "output_type": "stream",
     "text": [
      "<p class=\"sitenotice-wrapper__title\">Gun Wiki</p>\n",
      "<p><font face=\"Verdana\">\n",
      "</font></p>\n",
      "<p><font face=\"Verdana\"><b><span style=\"font-size:160%; color:#FF0000;\">M.O.S.</span> —</b> <span style=\"font-size:120%; color:#000;\">Please read and keep the <b><a href=\"/wiki/Gun_Wiki:Manual_of_Style\" title=\"Gun Wiki:Manual of Style\">Manual of Style</a></b> in mind while editing.</span>\n",
      "</font></p>\n",
      "<p><font face=\"Verdana\"><b><span style=\"font-size:120%; color:#FF0000;\">Also, remember that there is to be no copying and pasting from other sources, at any time - your edits must be in your OWN words!</span></b>\n",
      "</font></p>\n",
      "<p>READ MORE</p>\n",
      "<p>\n",
      "<aside class=\"portable-infobox pi-background pi-border-color pi-theme-wikia pi-layout-default\" role=\"region\">\n",
      "<div class=\"pi-image-collection wds-tabber\" data-source=\"image\">\n",
      "<div class=\"wds-tabs__wrapper\">\n",
      "<ul class=\"wds-tabs\">\n",
      "<li class=\"wds-tabs__tab wds-is-current\">\n",
      "<span class=\"wds-tabs__tab-label\">\n",
      "\t\t\t\t\t\t\tAK-47\n",
      "\t\t\t\t\t\t\t\n",
      "\t\t\t\t\t\t</span>\n",
      "</li>\n",
      "<li class=\"wds-tabs__tab\">\n",
      "<span class=\"wds-tabs__tab-label\">\n",
      "\t\t\t\t\t\t\tAKS-47\n",
      "\t\t\t\t\t\t\t\n",
      "\t\t\t\t\t\t</span>\n",
      "</li>\n",
      "</ul>\n",
      "</div>\n",
      "<div class=\"wds-tab__content wds-is-current\">\n",
      "<figure class=\"pi-item pi-image\">\n",
      "<a class=\"image image-thumbnail\" href=\"https://static.wikia.nocookie.net/guns/images/d/d5/TypeIIIAK-47.jpg/revision/latest?cb=20191003200838\" title=\"AK-47\">\n",
      "<img alt=\"AK-47\" class=\"pi-image-thumbnail\" data-image-key=\"TypeIIIAK-47.jpg\" data-image-name=\"TypeIIIAK-47.jpg\" data-relevant=\"1\" height=\"81\" src=\"https://static.wikia.nocookie.net/guns/images/d/d5/TypeIIIAK-47.jpg/revision/latest/scale-to-width-down/267?cb=20191003200838\" srcset=\"https://static.wikia.nocookie.net/guns/images/d/d5/TypeIIIAK-47.jpg/revision/latest/scale-to-width-down/267?cb=20191003200838 1x, https://static.wikia.nocookie.net/guns/images/d/d5/TypeIIIAK-47.jpg/revision/latest/scale-to-width-down/536?cb=20191003200838 2x\" width=\"270\"/>\n",
      "</a>\n",
      "</figure>\n",
      "</div>\n",
      "<div class=\"wds-tab__content\">\n",
      "<figure class=\"pi-item pi-image\">\n",
      "<a class=\"image image-thumbnail\" href=\"https://static.wikia.nocookie.net/guns/images/f/ff/TypeIIIAKS-47.jpg/revision/latest?cb=20191006195230\" title=\"AKS-47\">\n",
      "<img alt=\"AKS-47\" class=\"pi-image-thumbnail\" data-image-key=\"TypeIIIAKS-47.jpg\" data-image-name=\"TypeIIIAKS-47.jpg\" data-relevant=\"1\" height=\"82\" src=\"https://static.wikia.nocookie.net/guns/images/f/ff/TypeIIIAKS-47.jpg/revision/latest/scale-to-width-down/268?cb=20191006195230\" srcset=\"https://static.wikia.nocookie.net/guns/images/f/ff/TypeIIIAKS-47.jpg/revision/latest/scale-to-width-down/268?cb=20191006195230 1x, https://static.wikia.nocookie.net/guns/images/f/ff/TypeIIIAKS-47.jpg/revision/latest/scale-to-width-down/536?cb=20191006195230 2x\" width=\"270\"/>\n",
      "</a>\n",
      "</figure>\n",
      "</div>\n",
      "</div>\n",
      "<h2 class=\"pi-item pi-item-spacing pi-title pi-secondary-background\" data-source=\"name\">Avtomat Kalashnikova</h2>\n",
      "<section class=\"pi-item pi-group pi-border-color pi-collapse pi-collapse-closed\">\n",
      "<h2 class=\"pi-item pi-header pi-secondary-font pi-item-spacing pi-secondary-background\"><b>Production information</b></h2>\n",
      "<div class=\"pi-item pi-data pi-item-spacing pi-border-color\" data-source=\"origin\">\n",
      "<h3 class=\"pi-data-label pi-secondary-font\">Country of origin</h3>\n",
      "<div class=\"pi-data-value pi-font\">Soviet Union</div>\n",
      "</div>\n",
      "<div class=\"pi-item pi-data pi-item-spacing pi-border-color\" data-source=\"manufact\">\n",
      "<h3 class=\"pi-data-label pi-secondary-font\">Manufacturer(s)</h3>\n",
      "<div class=\"pi-data-value pi-font\"><a class=\"mw-redirect\" href=\"/wiki/IZhMASh\" title=\"IZhMASh\">IZhMASh</a></div>\n",
      "</div>\n",
      "<div class=\"pi-item pi-data pi-item-spacing pi-border-color\" data-source=\"maker\">\n",
      "<h3 class=\"pi-data-label pi-secondary-font\">Designer(s)</h3>\n",
      "<div class=\"pi-data-value pi-font\"><a href=\"/wiki/Mikhail_Kalashnikov\" title=\"Mikhail Kalashnikov\">Mikhail Kalashnikov</a></div>\n",
      "</div>\n",
      "<div class=\"pi-item pi-data pi-item-spacing pi-border-color\" data-source=\"design\">\n",
      "<h3 class=\"pi-data-label pi-secondary-font\">Year(s) designed</h3>\n",
      "<div class=\"pi-data-value pi-font\">1946–1948</div>\n",
      "</div>\n",
      "<div class=\"pi-item pi-data pi-item-spacing pi-border-color\" data-source=\"birth\">\n",
      "<h3 class=\"pi-data-label pi-secondary-font\">Production began</h3>\n",
      "<div class=\"pi-data-value pi-font\">1949</div>\n",
      "</div>\n",
      "<div class=\"pi-item pi-data pi-item-spacing pi-border-color\" data-source=\"nobuilt\">\n",
      "<h3 class=\"pi-data-label pi-secondary-font\">Number built</h3>\n",
      "<div class=\"pi-data-value pi-font\">c.75,000,000</div>\n",
      "</div>\n",
      "</section>\n",
      "<section class=\"pi-item pi-group pi-border-color pi-collapse pi-collapse-closed\">\n",
      "<h2 class=\"pi-item pi-header pi-secondary-font pi-item-spacing pi-secondary-background\"><b>Technical specifications</b></h2>\n",
      "<div class=\"pi-item pi-data pi-item-spacing pi-border-color\" data-source=\"type\">\n",
      "<h3 class=\"pi-data-label pi-secondary-font\">Weapon type</h3>\n",
      "<div class=\"pi-data-value pi-font\"><a href=\"/wiki/Assault_rifle\" title=\"Assault rifle\">Assault rifle</a></div>\n",
      "</div>\n",
      "<div class=\"pi-item pi-data pi-item-spacing pi-border-color\" data-source=\"caliber\">\n",
      "<h3 class=\"pi-data-label pi-secondary-font\"><a href=\"/wiki/Caliber\" title=\"Caliber\">Caliber</a></h3>\n",
      "<div class=\"pi-data-value pi-font\"><a href=\"/wiki/7.62%C3%9739mm\" title=\"7.62×39mm\">7.62×39mm</a></div>\n",
      "</div>\n",
      "<div class=\"pi-item pi-data pi-item-spacing pi-border-color\" data-source=\"action\">\n",
      "<h3 class=\"pi-data-label pi-secondary-font\">Action</h3>\n",
      "<div class=\"pi-data-value pi-font\"><a class=\"mw-redirect\" href=\"/wiki/Gas-operated\" title=\"Gas-operated\">Gas-operated</a>, <a class=\"mw-redirect\" href=\"/wiki/Rotating_bolt\" title=\"Rotating bolt\">rotating bolt</a></div>\n",
      "</div>\n",
      "<div class=\"pi-item pi-data pi-item-spacing pi-border-color\" data-source=\"length\">\n",
      "<h3 class=\"pi-data-label pi-secondary-font\">Length</h3>\n",
      "<div class=\"pi-data-value pi-font\">34.2 in (87 cm)</div>\n",
      "</div>\n",
      "<div class=\"pi-item pi-data pi-item-spacing pi-border-color\" data-source=\"barrel\">\n",
      "<h3 class=\"pi-data-label pi-secondary-font\">Barrel length</h3>\n",
      "<div class=\"pi-data-value pi-font\">16.3 in (41 cm)</div>\n",
      "</div>\n",
      "<div class=\"pi-item pi-data pi-item-spacing pi-border-color\" data-source=\"weight\">\n",
      "<h3 class=\"pi-data-label pi-secondary-font\">Weight</h3>\n",
      "<div class=\"pi-data-value pi-font\">9.48 lb (4.30 kg)</div>\n",
      "</div>\n",
      "<div class=\"pi-item pi-data pi-item-spacing pi-border-color\" data-source=\"magazine\">\n",
      "<h3 class=\"pi-data-label pi-secondary-font\">Feed system</h3>\n",
      "<div class=\"pi-data-value pi-font\">30 rounds</div>\n",
      "</div>\n",
      "<div class=\"pi-item pi-data pi-item-spacing pi-border-color\" data-source=\"cycle\">\n",
      "<h3 class=\"pi-data-label pi-secondary-font\"><a href=\"/wiki/Cyclic_rate\" title=\"Cyclic rate\">Cyclic rate</a></h3>\n",
      "<div class=\"pi-data-value pi-font\">600rpm</div>\n",
      "</div>\n",
      "<div class=\"pi-item pi-data pi-item-spacing pi-border-color\" data-source=\"range\">\n",
      "<h3 class=\"pi-data-label pi-secondary-font\"><a class=\"mw-redirect\" href=\"/wiki/Maximum_effective_range\" title=\"Maximum effective range\">Maximum effective range</a></h3>\n",
      "<div class=\"pi-data-value pi-font\">300–400 m (330–440 yd)</div>\n",
      "</div>\n",
      "</section>\n",
      "<section class=\"pi-item pi-group pi-border-color pi-collapse pi-collapse-closed\">\n",
      "<h2 class=\"pi-item pi-header pi-secondary-font pi-item-spacing pi-secondary-background\"><b>Usage</b></h2>\n",
      "<div class=\"pi-item pi-data pi-item-spacing pi-border-color\" data-source=\"usedby\">\n",
      "<h3 class=\"pi-data-label pi-secondary-font\">Notable users</h3>\n",
      "<div class=\"pi-data-value pi-font\"><div class=\"mw-collapsible mw-collapsed\">Afghanistan<br/>Albania<br/>Algeria<br/>Angola<br/>Bangladesh<br/>Benin<br/>Botswana<br/>Bulgaria<br/>Cambodia<br/>Cape Verde<br/>Central African Republic<br/>Chad<br/>Chile<br/>China: <a href=\"/wiki/Type_56_assault_rifle\" title=\"Type 56 assault rifle\">Type 56</a> variant.<br/>Comoros<br/>Congo, Democratic Republic of the<br/>Congo, Republic of the<br/>Cuba<br/>Egypt<br/>Equatorial Guinea<br/>Ethiopia<br/>Gabon<br/>Guinea<br/>Guinea-Bissau<br/>Guyana<br/>Hungary<br/>India<br/>Iran<br/>Iraq<br/>Israel<br/>Laos<br/>Lesotho<br/>Liberia<br/>Libya<br/>Madagascar<br/>Mali<br/>Morocco<br/>Mozambique<br/>North Korea: <a href=\"/wiki/Type_58_assault_rifle\" title=\"Type 58 assault rifle\">Type 58</a> variant.<br/>Pakistan: Type 56 variant.<br/>Peru<br/>Poland<br/>Qatar<br/>Romania<br/>Seychelles<br/>Sierra Leone<br/>Somalia<br/>Sudan<br/>Syria<br/>São Tomé and Príncipe<br/>Tanzania<br/>Togo<br/>Vietnam<br/>Yemen<br/>Zambia<br/>Zimbabwe<br/><br/>(Former users)<br/>East Germany<br/>Soviet Union<br/>Yugoslavia</div></div>\n",
      "</div>\n",
      "</section>\n",
      "<section class=\"pi-item pi-group pi-border-color pi-collapse pi-collapse-closed\">\n",
      "<h2 class=\"pi-item pi-header pi-secondary-font pi-item-spacing pi-secondary-background\"><b>Other information</b></h2>\n",
      "<div class=\"pi-item pi-data pi-item-spacing pi-border-color\" data-source=\"aka\">\n",
      "<h3 class=\"pi-data-label pi-secondary-font\">Other name(s)</h3>\n",
      "<div class=\"pi-data-value pi-font\">AK (official)<br/><i>Kalashnikov</i> (colloquial)</div>\n",
      "</div>\n",
      "</section>\n",
      "<nav class=\"pi-navigation pi-item-spacing pi-secondary-font\"><a href=\"/wiki/Template:Guninfo\" title=\"Template:Guninfo\">[Source]</a> • <a href=\"/wiki/Template_talk:Guninfo\" title=\"Template talk:Guninfo\">[Talk]</a></nav>\n",
      "</aside>\n",
      "</p>\n",
      "<p>The <b>AK</b> (Russian: <b>А</b>втомат <b>К</b>алашникова, <b>A</b>vtomat <b>K</b>alashnikova, lit. \"Kalashnikov's automatic assault rifle\"), almost universally known as the <b>AK-47</b>, is an <a href=\"/wiki/Assault_rifle\" title=\"Assault rifle\">assault rifle</a> that was designed by <a href=\"/wiki/Mikhail_Kalashnikov\" title=\"Mikhail Kalashnikov\">Mikhail Kalashnikov</a>. Originally designed for the Soviet armed forces shortly after World War II, the AK and its derivatives have seen extensive use across the world and remain the most widely-produced rifles in history.\n",
      "</p>\n",
      "<p>AK-47 stands for <i>Автомат Калашникова образца 1947 года</i> (<i>Avtomat Kalashnikova, obraztsa 1947 goda</i>), literally <i>\"Kalashnikov's automaton, model of the year 1947</i>.\" The name AK can refer to the original AK model or the AK series of rifles based on the original AK model. The name Kalashnikov rifle is a alternate western name for the general AK series of rifles.\n",
      "</p>\n",
      "<p>The veracity of the \"AK-47\" name is a source of controversy among firearm historians. The AK never had a production designation by the name \"AK-47\", and has been produced by the Izhevsk Mechanical plant under the \"Avtomat Kalashnikova AK\" designation. The \"AK-47\" designation was stuck to the AK by western sources, likely because most Russian weapons have a design date in their names.\n",
      "</p>\n",
      "<p>More confusingly, a few early Russian documents referred to AK prototypes by the AK-47 designation, which was dropped soon after.<sup class=\"reference\" id=\"cite_ref-1\"><a href=\"#cite_note-1\"><span class=\"cite-bracket\">[</span>1<span class=\"cite-bracket\">]</span></a></sup><sup class=\"reference\" id=\"cite_ref-2\"><a href=\"#cite_note-2\"><span class=\"cite-bracket\">[</span>2<span class=\"cite-bracket\">]</span></a></sup> Many western sources today recognize AK-47 as the weapon's more common but non-official nickname used in western publishing, while Russian sources would universally refer to the weapon as AK, and the AK-47 name only refers to early AK prototypes.\n",
      "</p>\n"
     ]
    }
   ],
   "execution_count": 6
  },
  {
   "metadata": {
    "ExecuteTime": {
     "end_time": "2025-10-12T18:59:55.731105Z",
     "start_time": "2025-10-12T18:59:55.035447Z"
    }
   },
   "cell_type": "code",
   "source": [
    "from text_webscraping import get_fandom_text\n",
    "url = \"https://guns.fandom.com/wiki/colt-1911\"\n",
    "paras = get_fandom_text(url)\n",
    "for i, p in enumerate(paras[:10]):\n",
    "    print(p)"
   ],
   "id": "e8058c3e77033f79",
   "outputs": [
    {
     "ename": "HTTPError",
     "evalue": "404 Client Error: Not Found for url: https://guns.fandom.com/wiki/colt-1911",
     "output_type": "error",
     "traceback": [
      "\u001B[1;31m---------------------------------------------------------------------------\u001B[0m",
      "\u001B[1;31mHTTPError\u001B[0m                                 Traceback (most recent call last)",
      "Cell \u001B[1;32mIn[7], line 3\u001B[0m\n\u001B[0;32m      1\u001B[0m \u001B[38;5;28;01mfrom\u001B[39;00m\u001B[38;5;250m \u001B[39m\u001B[38;5;21;01mtext_webscraping\u001B[39;00m\u001B[38;5;250m \u001B[39m\u001B[38;5;28;01mimport\u001B[39;00m get_fandom_text\n\u001B[0;32m      2\u001B[0m url \u001B[38;5;241m=\u001B[39m \u001B[38;5;124m\"\u001B[39m\u001B[38;5;124mhttps://guns.fandom.com/wiki/colt-1911\u001B[39m\u001B[38;5;124m\"\u001B[39m\n\u001B[1;32m----> 3\u001B[0m paras \u001B[38;5;241m=\u001B[39m get_fandom_text(url)\n\u001B[0;32m      4\u001B[0m \u001B[38;5;28;01mfor\u001B[39;00m i, p \u001B[38;5;129;01min\u001B[39;00m \u001B[38;5;28menumerate\u001B[39m(paras[:\u001B[38;5;241m10\u001B[39m]):\n\u001B[0;32m      5\u001B[0m     \u001B[38;5;28mprint\u001B[39m(p)\n",
      "File \u001B[1;32m~\\Portables\\Projects\\sleeping_api-s\\text_webscraping.py:6\u001B[0m, in \u001B[0;36mget_fandom_text\u001B[1;34m(url)\u001B[0m\n\u001B[0;32m      5\u001B[0m \u001B[38;5;28;01mdef\u001B[39;00m\u001B[38;5;250m \u001B[39m\u001B[38;5;21mget_fandom_text\u001B[39m(url):\n\u001B[1;32m----> 6\u001B[0m     response \u001B[38;5;241m=\u001B[39m requests\u001B[38;5;241m.\u001B[39mget(url, headers\u001B[38;5;241m=\u001B[39m{\u001B[38;5;124m\"\u001B[39m\u001B[38;5;124mUser-Agent\u001B[39m\u001B[38;5;124m\"\u001B[39m: \u001B[38;5;124m\"\u001B[39m\u001B[38;5;124mStudentProject/1.0 (mkakol.index@gmail.com)\u001B[39m\u001B[38;5;124m\"\u001B[39m})\n\u001B[0;32m      7\u001B[0m     response\u001B[38;5;241m.\u001B[39mraise_for_status()\n\u001B[0;32m      8\u001B[0m     soup \u001B[38;5;241m=\u001B[39m BeautifulSoup(response\u001B[38;5;241m.\u001B[39mtext, \u001B[38;5;124m\"\u001B[39m\u001B[38;5;124mhtml.parser\u001B[39m\u001B[38;5;124m\"\u001B[39m)\n",
      "File \u001B[1;32m~\\anaconda3\\Lib\\site-packages\\requests\\models.py:1024\u001B[0m, in \u001B[0;36mResponse.raise_for_status\u001B[1;34m(self)\u001B[0m\n\u001B[0;32m   1019\u001B[0m     http_error_msg \u001B[38;5;241m=\u001B[39m (\n\u001B[0;32m   1020\u001B[0m         \u001B[38;5;124mf\u001B[39m\u001B[38;5;124m\"\u001B[39m\u001B[38;5;132;01m{\u001B[39;00m\u001B[38;5;28mself\u001B[39m\u001B[38;5;241m.\u001B[39mstatus_code\u001B[38;5;132;01m}\u001B[39;00m\u001B[38;5;124m Server Error: \u001B[39m\u001B[38;5;132;01m{\u001B[39;00mreason\u001B[38;5;132;01m}\u001B[39;00m\u001B[38;5;124m for url: \u001B[39m\u001B[38;5;132;01m{\u001B[39;00m\u001B[38;5;28mself\u001B[39m\u001B[38;5;241m.\u001B[39murl\u001B[38;5;132;01m}\u001B[39;00m\u001B[38;5;124m\"\u001B[39m\n\u001B[0;32m   1021\u001B[0m     )\n\u001B[0;32m   1023\u001B[0m \u001B[38;5;28;01mif\u001B[39;00m http_error_msg:\n\u001B[1;32m-> 1024\u001B[0m     \u001B[38;5;28;01mraise\u001B[39;00m HTTPError(http_error_msg, response\u001B[38;5;241m=\u001B[39m\u001B[38;5;28mself\u001B[39m)\n",
      "\u001B[1;31mHTTPError\u001B[0m: 404 Client Error: Not Found for url: https://guns.fandom.com/wiki/colt-1911"
     ]
    }
   ],
   "execution_count": 7
  },
  {
   "metadata": {},
   "cell_type": "markdown",
   "source": "# 2. EDA",
   "id": "382b29ba8397b2bb"
  },
  {
   "metadata": {},
   "cell_type": "markdown",
   "source": "# 3. Text",
   "id": "cffe03d3e76b612d"
  },
  {
   "metadata": {},
   "cell_type": "markdown",
   "source": "# 6. Audio",
   "id": "5de37a28197ee031"
  },
  {
   "metadata": {
    "ExecuteTime": {
     "end_time": "2025-10-12T18:29:28.244621300Z",
     "start_time": "2025-10-12T17:42:40.883079Z"
    }
   },
   "cell_type": "code",
   "source": "",
   "id": "530aa011282f84b6",
   "outputs": [],
   "execution_count": null
  },
  {
   "metadata": {},
   "cell_type": "markdown",
   "source": "# 5. Image",
   "id": "2df44147e08e4271"
  },
  {
   "metadata": {
    "ExecuteTime": {
     "end_time": "2025-10-12T18:29:28.255620800Z",
     "start_time": "2025-10-12T17:42:40.891556Z"
    }
   },
   "cell_type": "code",
   "source": "",
   "id": "2a6ba296dd9738b",
   "outputs": [],
   "execution_count": null
  },
  {
   "metadata": {},
   "cell_type": "markdown",
   "source": "# 6... Pipline?",
   "id": "a274258a54f32dbb"
  },
  {
   "metadata": {
    "ExecuteTime": {
     "end_time": "2025-10-12T18:29:28.256621700Z",
     "start_time": "2025-10-12T17:42:40.901587Z"
    }
   },
   "cell_type": "code",
   "source": "",
   "id": "57f726febcf1bb34",
   "outputs": [],
   "execution_count": null
  }
 ],
 "metadata": {
  "kernelspec": {
   "display_name": "Python 3",
   "language": "python",
   "name": "python3"
  },
  "language_info": {
   "codemirror_mode": {
    "name": "ipython",
    "version": 2
   },
   "file_extension": ".py",
   "mimetype": "text/x-python",
   "name": "python",
   "nbconvert_exporter": "python",
   "pygments_lexer": "ipython2",
   "version": "2.7.6"
  }
 },
 "nbformat": 4,
 "nbformat_minor": 5
}
